{
  "cells": [
    {
      "cell_type": "code",
      "execution_count": 1,
      "metadata": {
        "colab": {
          "base_uri": "https://localhost:8080/"
        },
        "id": "7XZAZo23B3Vk",
        "outputId": "a9df98c2-d1e0-45d3-9373-12dd2652e0b9"
      },
      "outputs": [
        {
          "name": "stdout",
          "output_type": "stream",
          "text": [
            "Collecting deap\n",
            "  Downloading deap-1.4.1-cp310-cp310-manylinux_2_5_x86_64.manylinux1_x86_64.manylinux_2_17_x86_64.manylinux2014_x86_64.whl (135 kB)\n",
            "\u001b[?25l     \u001b[90m━━━━━━━━━━━━━━━━━━━━━━━━━━━━━━━━━━━━━━━━\u001b[0m \u001b[32m0.0/135.4 kB\u001b[0m \u001b[31m?\u001b[0m eta \u001b[36m-:--:--\u001b[0m\r\u001b[2K     \u001b[91m━━━━━━━━━━━━━━━━━━━━━\u001b[0m\u001b[90m╺\u001b[0m\u001b[90m━━━━━━━━━━━━━━━━━━\u001b[0m \u001b[32m71.7/135.4 kB\u001b[0m \u001b[31m2.1 MB/s\u001b[0m eta \u001b[36m0:00:01\u001b[0m\r\u001b[2K     \u001b[90m━━━━━━━━━━━━━━━━━━━━━━━━━━━━━━━━━━━━━━━━\u001b[0m \u001b[32m135.4/135.4 kB\u001b[0m \u001b[31m2.8 MB/s\u001b[0m eta \u001b[36m0:00:00\u001b[0m\n",
            "\u001b[?25hRequirement already satisfied: numpy in /usr/local/lib/python3.10/dist-packages (from deap) (1.25.2)\n",
            "Installing collected packages: deap\n",
            "Successfully installed deap-1.4.1\n"
          ]
        }
      ],
      "source": [
        "pip install deap"
      ]
    },
    {
      "cell_type": "code",
      "execution_count": 2,
      "metadata": {
        "id": "y-cte0GaCx6w"
      },
      "outputs": [],
      "source": [
        "import random\n",
        "from deap import base, creator, tools, algorithms\n",
        "#Distributed Evolutionary Algorithms in Python is an evolutionary computation framework for rapid prototyping and testing of ideas"
      ]
    },
    {
      "cell_type": "code",
      "execution_count": 3,
      "metadata": {
        "id": "m0io9vEHC2TL"
      },
      "outputs": [],
      "source": [
        "# Define evaluation function (this is a mock function, replace this with your actual evaluation function)\n",
        "def evaluate(individual):\n",
        "# Here 'individual' represents the parameters for the neural network\n",
        "# You'll need to replace this with your actual evaluation function that trains the neural network and evaluates its performance\n",
        "# Return a fitness value (here, a random number is used as an example)\n",
        "  return random.random()"
      ]
    },
    {
      "cell_type": "code",
      "execution_count": 4,
      "metadata": {
        "id": "gaIF9Vr4C8x3"
      },
      "outputs": [],
      "source": [
        "# Define genetic algorithm parameters\n",
        "POPULATION_SIZE = 10\n",
        "GENERATIONS = 5"
      ]
    },
    {
      "cell_type": "code",
      "execution_count": 5,
      "metadata": {
        "id": "O1Tisf-hC_rJ"
      },
      "outputs": [],
      "source": [
        "# Create types for fitness and individuals in the genetic algorithm\n",
        "creator.create(\"FitnessMin\", base.Fitness, weights=(-1.0,)) #A Fitness Score is given to each individual which shows the ability of an individual to “compete”. \n",
        "creator.create(\"Individual\", list, fitness=creator.FitnessMin)"
      ]
    },
    {
      "cell_type": "code",
      "execution_count": 6,
      "metadata": {
        "id": "0_JGzP71DBso"
      },
      "outputs": [],
      "source": [
        "# Initialize toolbox\n",
        "toolbox = base.Toolbox()"
      ]
    },
    {
      "cell_type": "code",
      "execution_count": 1,
      "metadata": {
        "id": "xJIyp988DGVt"
      },
      "outputs": [
        {
          "ename": "NameError",
          "evalue": "name 'toolbox' is not defined",
          "output_type": "error",
          "traceback": [
            "\u001b[1;31m---------------------------------------------------------------------------\u001b[0m",
            "\u001b[1;31mNameError\u001b[0m                                 Traceback (most recent call last)",
            "Cell \u001b[1;32mIn[1], line 3\u001b[0m\n\u001b[0;32m      1\u001b[0m \u001b[38;5;124;03m'''toolbox to generate individuals and populations. attr_neurons and attr_layers generate random integers representing parameters of a neural network (like number of neurons and layers). individual creates an individual with a combination of neurons and layers, and population generates a population of individuals.'''\u001b[39;00m\n\u001b[1;32m----> 3\u001b[0m toolbox\u001b[38;5;241m.\u001b[39mregister(\u001b[38;5;124m\"\u001b[39m\u001b[38;5;124mattr_neurons\u001b[39m\u001b[38;5;124m\"\u001b[39m, random\u001b[38;5;241m.\u001b[39mrandint, \u001b[38;5;241m1\u001b[39m, \u001b[38;5;241m100\u001b[39m) \u001b[38;5;66;03m# Example: number of neurons\u001b[39;00m\n\u001b[0;32m      4\u001b[0m toolbox\u001b[38;5;241m.\u001b[39mregister(\u001b[38;5;124m\"\u001b[39m\u001b[38;5;124mattr_layers\u001b[39m\u001b[38;5;124m\"\u001b[39m, random\u001b[38;5;241m.\u001b[39mrandint, \u001b[38;5;241m1\u001b[39m, \u001b[38;5;241m5\u001b[39m) \u001b[38;5;66;03m# Example: number of layers\u001b[39;00m\n\u001b[0;32m      5\u001b[0m toolbox\u001b[38;5;241m.\u001b[39mregister(\u001b[38;5;124m\"\u001b[39m\u001b[38;5;124mindividual\u001b[39m\u001b[38;5;124m\"\u001b[39m, tools\u001b[38;5;241m.\u001b[39minitCycle, creator\u001b[38;5;241m.\u001b[39mIndividual, (toolbox\u001b[38;5;241m.\u001b[39mattr_neurons,\n\u001b[0;32m      6\u001b[0m toolbox\u001b[38;5;241m.\u001b[39mattr_layers), n\u001b[38;5;241m=\u001b[39m\u001b[38;5;241m1\u001b[39m)\n",
            "\u001b[1;31mNameError\u001b[0m: name 'toolbox' is not defined"
          ]
        }
      ],
      "source": [
        "'''toolbox to generate individuals and populations. \n",
        "attr_neurons and attr_layers generate random integers representing parameters of a neural network (like number of neurons and layers). \n",
        "individual creates an individual with a combination of neurons and layers, \n",
        "and population generates a population of individuals.'''\n",
        "\n",
        "toolbox.register(\"attr_neurons\", random.randint, 1, 100) # Example: number of neurons\n",
        "toolbox.register(\"attr_layers\", random.randint, 1, 5) # Example: number of layers\n",
        "toolbox.register(\"individual\", tools.initCycle, creator.Individual, (toolbox.attr_neurons,\n",
        "toolbox.attr_layers), n=1)\n",
        "toolbox.register(\"population\", tools.initRepeat, list, toolbox.individual)"
      ]
    },
    {
      "cell_type": "code",
      "execution_count": 8,
      "metadata": {
        "id": "u60dXQ9QDKxT"
      },
      "outputs": [],
      "source": [
        "'''Various genetic operators are registered here:\n",
        "evaluate is a function that evaluates the fitness of an individual.\n",
        "mate performs two-point crossover.\n",
        "mutate performs uniform mutation on the individuals.\n",
        "select is the selection operator (tournament selection)'''\n",
        "toolbox.register(\"evaluate\", evaluate)\n",
        "toolbox.register(\"mate\", tools.cxTwoPoint)\n",
        "toolbox.register(\"mutate\", tools.mutUniformInt, low=1, up=100, indpb=0.2)\n",
        "toolbox.register(\"select\", tools.selTournament, tournsize=3)"
      ]
    },
    {
      "cell_type": "code",
      "execution_count": 9,
      "metadata": {
        "id": "Z6z5Su_eDMgW"
      },
      "outputs": [],
      "source": [
        "# Create initial population\n",
        "population = toolbox.population(n=POPULATION_SIZE)"
      ]
    },
    {
      "cell_type": "code",
      "execution_count": 11,
      "metadata": {
        "id": "DCWI0nTUDQtU"
      },
      "outputs": [],
      "source": [
        "for gen in range(GENERATIONS):\n",
        "    offspring = algorithms.varAnd(population, toolbox, cxpb=0.5, mutpb=0.1)\n",
        "\n",
        "    fitnesses = toolbox.map(toolbox.evaluate, offspring)\n",
        "    for ind, fit in zip(offspring, fitnesses):\n",
        "\n",
        "        ind.fitness.values = (fit,)\n",
        "\n",
        "    population = toolbox.select(offspring, k=len(population))\n"
      ]
    },
    {
      "cell_type": "code",
      "execution_count": 2,
      "metadata": {
        "colab": {
          "base_uri": "https://localhost:8080/"
        },
        "id": "xYmXTM_2DYmT",
        "outputId": "fe73a7b0-5a55-4f1e-eb91-e10f13072f78"
      },
      "outputs": [
        {
          "ename": "NameError",
          "evalue": "name 'tools' is not defined",
          "output_type": "error",
          "traceback": [
            "\u001b[1;31m---------------------------------------------------------------------------\u001b[0m",
            "\u001b[1;31mNameError\u001b[0m                                 Traceback (most recent call last)",
            "Cell \u001b[1;32mIn[2], line 1\u001b[0m\n\u001b[1;32m----> 1\u001b[0m best_individual \u001b[38;5;241m=\u001b[39m tools\u001b[38;5;241m.\u001b[39mselBest(population, k\u001b[38;5;241m=\u001b[39m\u001b[38;5;241m1\u001b[39m)[\u001b[38;5;241m0\u001b[39m]\n\u001b[0;32m      2\u001b[0m best_params \u001b[38;5;241m=\u001b[39m best_individual\n\u001b[0;32m      5\u001b[0m \u001b[38;5;28mprint\u001b[39m(\u001b[38;5;124m\"\u001b[39m\u001b[38;5;124mBest Parameters:\u001b[39m\u001b[38;5;124m\"\u001b[39m, best_params)\n",
            "\u001b[1;31mNameError\u001b[0m: name 'tools' is not defined"
          ]
        }
      ],
      "source": [
        "\n",
        "best_individual = tools.selBest(population, k=1)[0]\n",
        "best_params = best_individual\n",
        "\n",
        "\n",
        "print(\"Best Parameters:\", best_params)\n",
        "''' the best configuration found for the neural network has 69 neurons and 2 layers.\n",
        "These parameters are determined to be the optimal configuration based on the fitness function'''"
      ]
    },
    {
      "cell_type": "code",
      "execution_count": null,
      "metadata": {
        "id": "EseatPOeDnNs"
      },
      "outputs": [],
      "source": []
    }
  ],
  "metadata": {
    "colab": {
      "provenance": []
    },
    "kernelspec": {
      "display_name": "Python 3",
      "name": "python3"
    },
    "language_info": {
      "codemirror_mode": {
        "name": "ipython",
        "version": 3
      },
      "file_extension": ".py",
      "mimetype": "text/x-python",
      "name": "python",
      "nbconvert_exporter": "python",
      "pygments_lexer": "ipython3",
      "version": "3.11.5"
    }
  },
  "nbformat": 4,
  "nbformat_minor": 0
}
