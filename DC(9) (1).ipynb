{
 "cells": [
  {
   "cell_type": "code",
   "execution_count": 1,
   "metadata": {
    "id": "ITVPdt-8lka8"
   },
   "outputs": [],
   "source": [
    "import numpy as np\n"
   ]
  },
  {
   "cell_type": "code",
   "execution_count": 2,
   "metadata": {
    "colab": {
     "base_uri": "https://localhost:8080/"
    },
    "id": "aGEFUIvYlsE9",
    "outputId": "46cf5efd-a8c3-4d01-988d-7a55c2ed4458"
   },
   "outputs": [],
   "source": [
    "class AntColony:\n",
    " def __init__(self, distances, n_ants, n_best, n_iterations, decay, alpha=1, beta=1):\n",
    "  self.distances = distances\n",
    "  self.pheromone = np.ones(self.distances.shape) / len(distances)\n",
    "  self.all_inds = range(len(distances))\n",
    "  self.n_ants = n_ants\n",
    "  self.n_best = n_best\n",
    "  self.n_iterations = n_iterations\n",
    "  self.decay = decay\n",
    "  self.alpha = alpha\n",
    "  self.beta = beta\n",
    "\n",
    " def run(self):\n",
    "  shortest_path = None\n",
    "  shortest_path_length = np.inf\n",
    "  for i in range(self.n_iterations):\n",
    "    all_paths = self.gen_all_paths()\n",
    "    self.spread_pheromone(all_paths, self.n_best, shortest_path, shortest_path_length)\n",
    "    shortest_path, shortest_path_length = self.get_shortest(all_paths)\n",
    "    self.pheromone *= self.decay\n",
    "  return shortest_path, shortest_path_length\n",
    "\n",
    " def spread_pheromone(self, all_paths, n_best, shortest_path, shortest_path_length):\n",
    "  sorted_paths = sorted(all_paths, key=lambda x: x[1])\n",
    "  for path, dist in sorted_paths[:n_best]:\n",
    "      for move in path:\n",
    "        self.pheromone[move] += 1.0 / self.distances[move]\n",
    "        \n",
    " def gen_path_dist(self, path):\n",
    "  total_dist = 0\n",
    "  for ele in path:\n",
    "    total_dist += self.distances[ele]\n",
    "  return total_dist\n",
    "\n",
    " def gen_all_paths(self):\n",
    "  all_paths = []\n",
    "  for i in range(self.n_ants):\n",
    "    path = self.gen_path(0)\n",
    "    all_paths.append((path, self.gen_path_dist(path)))\n",
    "  return all_paths\n",
    "\n",
    " def gen_path(self, start):\n",
    "  path = []\n",
    "  visited = set()\n",
    "  visited.add(start)\n",
    "  prev = start\n",
    "  for i in range(len(self.distances) - 1):\n",
    "    move = self.pick_move(self.pheromone[prev], self.distances[prev], visited)\n",
    "    path.append((prev, move))\n",
    "    prev = move\n",
    "    visited.add(move)\n",
    "    path.append((prev, start)) # going back to where we started\n",
    "  return path\n",
    "\n",
    " def pick_move(self, pheromone, dist, visited):\n",
    "  pheromone = np.copy(pheromone)\n",
    "  pheromone[list(visited)] = 0\n",
    "  row = pheromone ** self.alpha * ((1.0 / dist) ** self.beta)\n",
    "  norm_row = row / row.sum()\n",
    "  move = np.random.choice(self.all_inds, 1, p=norm_row)[0]\n",
    "  return move\n",
    "\n",
    " def get_shortest(self, all_paths):\n",
    "  best_path = None\n",
    "  best_path_length = np.inf\n",
    "  for path, dist in all_paths:\n",
    "    if dist < best_path_length:\n",
    "      best_path_length = dist\n",
    "      best_path = path\n",
    "  return best_path, best_path_length\n",
    "\n"
   ]
  },
  {
   "cell_type": "code",
   "execution_count": 3,
   "metadata": {
    "id": "G_m4FlEwmrWD"
   },
   "outputs": [
    {
     "data": {
      "image/png": "[encoded data removed]",
      "text/plain": [
       "<Figure size 640x480 with 1 Axes>"
      ]
     },
     "metadata": {},
     "output_type": "display_data"
    },
    {
     "name": "stdout",
     "output_type": "stream",
     "text": [
      "Shortest Path: [(0, 1), (1, 0), (1, 3), (3, 0), (3, 2), (2, 0)]\n",
      "Shortest Path Length: 121.0\n"
     ]
    }
   ],
   "source": [
    "import networkx as nx\n",
    "import matplotlib.pyplot as plt\n",
    "\n",
    "if __name__ == '__main__':\n",
    "    # Define the distance matrix\n",
    "    distances = np.array([[np.inf, 11, 15, 20],\n",
    "                          [10, np.inf, 35, 25],\n",
    "                          [20, 35, np.inf, 30],\n",
    "                          [25, 25, 30, np.inf]])\n",
    "\n",
    "    # Initialize the Ant Colony Optimization algorithm\n",
    "    ant_colony = AntColony(distances, n_ants=3, n_best=2, n_iterations=200, decay=0.5)\n",
    "\n",
    "    # Run the algorithm\n",
    "    shortest_path, shortest_path_length = ant_colony.run()\n",
    "\n",
    "    # Plot the graph\n",
    "    G = nx.Graph()\n",
    "    G.add_nodes_from(range(len(distances)))\n",
    "    for i, j in shortest_path:\n",
    "        G.add_edge(i, j, weight=distances[i, j])\n",
    "    pos = nx.spring_layout(G)\n",
    "    nx.draw_networkx_nodes(G, pos, node_size=500)\n",
    "    nx.draw_networkx_edges(G, pos, width=1.0, alpha=0.5, edge_color='b')\n",
    "    nx.draw_networkx_labels(G, pos, font_size=12, font_family=\"sans-serif\")\n",
    "    nx.draw_networkx_edge_labels(G, pos, edge_labels={(i, j): distances[i, j] for i, j in G.edges()}, font_size=10, font_family=\"sans-serif\")\n",
    "    plt.axis('off')\n",
    "    plt.show()\n",
    "\n",
    "    print(\"Shortest Path:\", shortest_path)\n",
    "    print(\"Shortest Path Length:\", shortest_path_length)\n",
    "\n",
    "\n"
   ]
  },
  {
   "cell_type": "code",
   "execution_count": null,
   "metadata": {},
   "outputs": [],
   "source": []
  }
 ],
 "metadata": {
  "colab": {
   "provenance": []
  },
  "kernelspec": {
   "display_name": "Python 3 (ipykernel)",
   "language": "python",
   "name": "python3"
  },
  "language_info": {
   "codemirror_mode": {
    "name": "ipython",
    "version": 3
   },
   "file_extension": ".py",
   "mimetype": "text/x-python",
   "name": "python",
   "nbconvert_exporter": "python",
   "pygments_lexer": "ipython3",
   "version": "3.11.5"
  }
 },
 "nbformat": 4,
 "nbformat_minor": 1
}
