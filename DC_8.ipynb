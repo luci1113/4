{
  "cells": [
    {
      "cell_type": "code",
      "execution_count": 12,
      "metadata": {
        "id": "y-cte0GaCx6w"
      },
      "outputs": [],
      "source": [
        "import random\n",
        "from deap import base, creator, tools, algorithms\n",
        "#Distributed Evolutionary Algorithms in Python is an evolutionary computation framework for rapid prototyping and testing of ideas"
      ]
    },
    {
      "cell_type": "code",
      "execution_count": 13,
      "metadata": {
        "id": "gaIF9Vr4C8x3"
      },
      "outputs": [],
      "source": [
        "# Define genetic algorithm parameters\n",
        "POPULATION_SIZE = 10\n",
        "GENERATIONS = 5"
      ]
    },
    {
      "cell_type": "code",
      "execution_count": 14,
      "metadata": {
        "id": "O1Tisf-hC_rJ"
      },
      "outputs": [
        {
          "name": "stderr",
          "output_type": "stream",
          "text": [
            "C:\\Users\\hp\\AppData\\Roaming\\Python\\Python311\\site-packages\\deap\\creator.py:185: RuntimeWarning: A class named 'FitnessMin' has already been created and it will be overwritten. Consider deleting previous creation of that class or rename it.\n",
            "  warnings.warn(\"A class named '{0}' has already been created and it \"\n",
            "C:\\Users\\hp\\AppData\\Roaming\\Python\\Python311\\site-packages\\deap\\creator.py:185: RuntimeWarning: A class named 'Individual' has already been created and it will be overwritten. Consider deleting previous creation of that class or rename it.\n",
            "  warnings.warn(\"A class named '{0}' has already been created and it \"\n"
          ]
        }
      ],
      "source": [
        "# Create types for fitness and individuals in the genetic algorithm\n",
        "creator.create(\"FitnessMin\", base.Fitness, weights=(-1.0,)) #A Fitness Score is given to each individual which shows the ability of an individual to “compete”. \n",
        "creator.create(\"Individual\", list, fitness=creator.FitnessMin)"
      ]
    },
    {
      "cell_type": "code",
      "execution_count": 15,
      "metadata": {
        "id": "0_JGzP71DBso"
      },
      "outputs": [],
      "source": [
        "# Initialize toolbox\n",
        "toolbox = base.Toolbox()"
      ]
    },
    {
      "cell_type": "code",
      "execution_count": 16,
      "metadata": {
        "id": "xJIyp988DGVt"
      },
      "outputs": [],
      "source": [
        "'''toolbox to generate individuals and populations. \n",
        "attr_neurons and attr_layers generate random integers representing parameters of a neural network (like number of neurons and layers). \n",
        "individual creates an individual with a combination of neurons and layers, \n",
        "and population generates a population of individuals.'''\n",
        "\n",
        "toolbox.register(\"attr_neurons\", random.randint, 1, 100) # Example: number of neurons\n",
        "toolbox.register(\"attr_layers\", random.randint, 1, 5) # Example: number of layers\n",
        "toolbox.register(\"individual\", tools.initCycle, creator.Individual, (toolbox.attr_neurons,\n",
        "toolbox.attr_layers), n=1)\n",
        "toolbox.register(\"population\", tools.initRepeat, list, toolbox.individual)"
      ]
    },
    {
      "cell_type": "code",
      "execution_count": 17,
      "metadata": {
        "id": "u60dXQ9QDKxT"
      },
      "outputs": [],
      "source": [
        "'''Various genetic operators are registered here:\n",
        "evaluate is a function that evaluates the fitness of an individual.\n",
        "mate performs two-point crossover.\n",
        "mutate performs uniform mutation on the individuals.\n",
        "select is the selection operator (tournament selection)'''\n",
        "toolbox.register(\"evaluate\", evaluate)\n",
        "toolbox.register(\"mate\", tools.cxTwoPoint)\n",
        "toolbox.register(\"mutate\", tools.mutUniformInt, low=1, up=100, indpb=0.2)\n",
        "toolbox.register(\"select\", tools.selTournament, tournsize=3)"
      ]
    },
    {
      "cell_type": "code",
      "execution_count": 18,
      "metadata": {
        "id": "Z6z5Su_eDMgW"
      },
      "outputs": [],
      "source": [
        "# Create initial population\n",
        "population = toolbox.population(n=POPULATION_SIZE)"
      ]
    },
    {
      "cell_type": "code",
      "execution_count": 19,
      "metadata": {
        "id": "DCWI0nTUDQtU"
      },
      "outputs": [],
      "source": [
        "for gen in range(GENERATIONS):\n",
        "    offspring = algorithms.varAnd(population, toolbox, cxpb=0.5, mutpb=0.1)\n",
        "\n",
        "    fitnesses = toolbox.map(toolbox.evaluate, offspring)\n",
        "    for ind, fit in zip(offspring, fitnesses):\n",
        "\n",
        "        ind.fitness.values = (fit,)\n",
        "\n",
        "    population = toolbox.select(offspring, k=len(population))\n"
      ]
    },
    {
      "cell_type": "code",
      "execution_count": 20,
      "metadata": {
        "colab": {
          "base_uri": "https://localhost:8080/"
        },
        "id": "xYmXTM_2DYmT",
        "outputId": "fe73a7b0-5a55-4f1e-eb91-e10f13072f78"
      },
      "outputs": [
        {
          "name": "stdout",
          "output_type": "stream",
          "text": [
            "Best Parameters: [89, 4]\n"
          ]
        },
        {
          "data": {
            "text/plain": [
              "' the best configuration found for the neural network has 69 neurons and 2 layers.\\nThese parameters are determined to be the optimal configuration based on the fitness function'"
            ]
          },
          "execution_count": 20,
          "metadata": {},
          "output_type": "execute_result"
        }
      ],
      "source": [
        "\n",
        "best_individual = tools.selBest(population, k=1)[0]\n",
        "best_params = best_individual\n",
        "\n",
        "\n",
        "print(\"Best Parameters:\", best_params)\n",
        "''' the best configuration found for the neural network has 69 neurons and 2 layers.\n",
        "These parameters are determined to be the optimal configuration based on the fitness function'''"
      ]
    },
    {
      "cell_type": "code",
      "execution_count": null,
      "metadata": {
        "id": "EseatPOeDnNs"
      },
      "outputs": [],
      "source": []
    }
  ],
  "metadata": {
    "colab": {
      "provenance": []
    },
    "kernelspec": {
      "display_name": "Python 3",
      "name": "python3"
    },
    "language_info": {
      "codemirror_mode": {
        "name": "ipython",
        "version": 3
      },
      "file_extension": ".py",
      "mimetype": "text/x-python",
      "name": "python",
      "nbconvert_exporter": "python",
      "pygments_lexer": "ipython3",
      "version": "3.11.5"
    }
  },
  "nbformat": 4,
  "nbformat_minor": 0
}
